{
  "cells": [
    {
      "metadata": {
        "trusted": true
      },
      "cell_type": "code",
      "source": "judgment_1 = '''\nMichaelmas Term \n[2012] UKSC 43 \nOn appeal from: [2009] EWCA Civ 281 \n\nJUDGMENT \n\nBritish Airways plc (Respondents) v Williams (Appellant) and others  \n\n\nLord Hope, Deputy President \n\nbefore  \n\nLord Walker \nLord Mance \nLord Clarke  \nLord Sumption \n\nJUDGMENT GIVEN ON \n\n17 October 2012 \n\nHeard on 23 July 2012 \n'''",
      "execution_count": 4,
      "outputs": []
    },
    {
      "metadata": {
        "trusted": true
      },
      "cell_type": "code",
      "source": "judgment_2 = '''\nHilary Term \n[2010] UKSC 7 \nOn appeal from: 2008 HCJAC 53 \n\nJUDGMENT \n\nMcInnes (Appellant) v Her Majesty's Advocate (Respondent) (Scotland)  \n\n\nLord Hope, Deputy President \n\nbefore  \n\nLord Rodger \nLord Walker \nLord Brown \nLord Kerr \n\nJUDGMENT GIVEN ON \n\n10 February 2010 \n\nHeard on 8 and 9 December 2009 \n'''",
      "execution_count": 19,
      "outputs": []
    },
    {
      "metadata": {
        "trusted": true
      },
      "cell_type": "code",
      "source": "judgment_3 = '''\nTrinity Term \n[2017] UKSC 51 \nOn appeal from: [2015] EWCA Civ 935 \n\n\nJUDGMENT \n\nR (on the application of UNISON) (Appellant) v Lord Chancellor (Respondent) \n\nbefore  \n\nLord Neuberger, President \nLady Hale, Deputy President \nLord Mance \nLord Kerr \nLord Wilson \nLord Reed \nLord Hughes \n\n \nJUDGMENT GIVEN ON \n\n26 July 2017 \n\nHeard on 27 and 28 March 2017 \n'''",
      "execution_count": 20,
      "outputs": []
    },
    {
      "metadata": {
        "trusted": true
      },
      "cell_type": "code",
      "source": "judgment_4 = '''\nHilary Term \n[2020] UKSC 15 \nOn appeal from: [2018] EWCA Civ 1515 \n\nZipvit Ltd (Appellant) v Commissioners for Her Majesty’s Revenue and Customs (Respondent) \n\nJUDGMENT \n\nbefore  \n\nLord Hodge \nLady Black \nLord Briggs \nLord Sales \nLord Hamblen \n\nJUDGMENT GIVEN ON 1 April 2020 \nHeard on 29 and 30 January 2020 \n'''",
      "execution_count": 21,
      "outputs": []
    },
    {
      "metadata": {
        "trusted": true
      },
      "cell_type": "code",
      "source": "judgment_5 = '''\n[2019] UKSC 41 \nOn appeals from: [2019] EWHC 2381 (QB) \nand [2019] CSIH 49 \n\nJUDGMENT \n\nR (on the application of Miller) (Appellant) v The \nPrime Minister (Respondent) \n\nCherry and others (Respondents) v Advocate \nGeneral for Scotland (Appellant) (Scotland) \n\nbefore  \nLady Hale, President \nLord Reed, Deputy President \nLord Kerr \nLord Wilson \nLord Carnwath \nLord Hodge \nLady Black \nLord Lloyd-Jones \nLady Arden \nLord Kitchin \nLord Sales \n\nJUDGMENT GIVEN ON \n\n24 September 2019 \n\nHeard on 17, 18 and 19 September 2019 \n'''",
      "execution_count": 22,
      "outputs": []
    },
    {
      "metadata": {
        "trusted": true
      },
      "cell_type": "code",
      "source": "# How to find when a judgement was heard ",
      "execution_count": 58,
      "outputs": []
    },
    {
      "metadata": {
        "trusted": true
      },
      "cell_type": "code",
      "source": "import re",
      "execution_count": 3,
      "outputs": []
    },
    {
      "metadata": {
        "trusted": true
      },
      "cell_type": "code",
      "source": "re.findall(r'(?:Heard on )(.+)(?: \\n)', judgment_1)",
      "execution_count": 67,
      "outputs": [
        {
          "output_type": "execute_result",
          "execution_count": 67,
          "data": {
            "text/plain": "['23 July 2012']"
          },
          "metadata": {}
        }
      ]
    },
    {
      "metadata": {
        "trusted": true
      },
      "cell_type": "code",
      "source": "# How to find the citation of a judgement",
      "execution_count": null,
      "outputs": []
    },
    {
      "metadata": {
        "trusted": true
      },
      "cell_type": "code",
      "source": "citation =  r\"(\\W\\d{4}\\W\\sUKSC\\s\\d+)\"",
      "execution_count": 8,
      "outputs": []
    },
    {
      "metadata": {
        "trusted": true
      },
      "cell_type": "code",
      "source": "re.findall(citation, judgment_1)",
      "execution_count": 9,
      "outputs": [
        {
          "output_type": "execute_result",
          "execution_count": 9,
          "data": {
            "text/plain": "['[2012] UKSC 43']"
          },
          "metadata": {}
        }
      ]
    },
    {
      "metadata": {
        "trusted": true
      },
      "cell_type": "code",
      "source": "# How to find the names of the judges",
      "execution_count": null,
      "outputs": []
    },
    {
      "metadata": {
        "trusted": true
      },
      "cell_type": "code",
      "source": "judges = r\"(L\\w{3}\\s\\w+)\"",
      "execution_count": null,
      "outputs": []
    },
    {
      "metadata": {
        "trusted": true
      },
      "cell_type": "code",
      "source": "re.findall(judges, judgment_1)",
      "execution_count": 25,
      "outputs": [
        {
          "output_type": "execute_result",
          "execution_count": 25,
          "data": {
            "text/plain": "['Lord Hope', 'Lord Walker', 'Lord Mance', 'Lord Clarke', 'Lord Sumption']"
          },
          "metadata": {}
        }
      ]
    }
  ],
  "metadata": {
    "kernelspec": {
      "name": "python36",
      "display_name": "Python 3.6",
      "language": "python"
    },
    "language_info": {
      "mimetype": "text/x-python",
      "nbconvert_exporter": "python",
      "name": "python",
      "pygments_lexer": "ipython3",
      "version": "3.6.6",
      "file_extension": ".py",
      "codemirror_mode": {
        "version": 3,
        "name": "ipython"
      }
    }
  },
  "nbformat": 4,
  "nbformat_minor": 2
}